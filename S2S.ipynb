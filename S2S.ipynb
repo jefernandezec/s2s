{
  "nbformat": 4,
  "nbformat_minor": 0,
  "metadata": {
    "colab": {
      "provenance": [],
      "authorship_tag": "ABX9TyP2gZ80EvO9CaHU82fGji7z",
      "include_colab_link": true
    },
    "kernelspec": {
      "name": "ir",
      "display_name": "R"
    },
    "language_info": {
      "name": "R"
    }
  },
  "cells": [
    {
      "cell_type": "markdown",
      "metadata": {
        "id": "view-in-github",
        "colab_type": "text"
      },
      "source": [
        "<a href=\"https://colab.research.google.com/github/jefernandezec/s2s/blob/main/S2S.ipynb\" target=\"_parent\"><img src=\"https://colab.research.google.com/assets/colab-badge.svg\" alt=\"Open In Colab\"/></a>"
      ]
    },
    {
      "cell_type": "code",
      "source": [
        "# ─── Toy survey dataset generation (R) ─────────────────────────────────────\n",
        "\n",
        "set.seed(0)\n",
        "n <- 1000\n",
        "\n",
        "# 1. Simulate raw variables\n",
        "age             <- sample(18:79, n, replace = TRUE)\n",
        "age_sq          <- age^2\n",
        "house_ownership <- rbinom(n, 1, 0.6)   # 1 = owns house\n",
        "labor_status    <- rbinom(n, 1, 0.7)   # 1 = employed\n",
        "electricity     <- rbinom(n, 1, 0.8)   # 1 = has electricity\n",
        "\n",
        "walls  <- sample(c(\"brick\",\"mud\"),          n, replace = TRUE, prob = c(0.7, 0.3))\n",
        "roof   <- sample(c(\"metal\",\"thatch\"),       n, replace = TRUE, prob = c(0.8, 0.2))\n",
        "floor  <- sample(c(\"dirt\",\"concrete\",\"tile\"), n, replace = TRUE, prob = c(0.2,0.6,0.2))\n",
        "area   <- sample(c(\"urban\",\"rural\"),        n, replace = TRUE, prob = c(0.5,0.5))\n",
        "\n",
        "df <- data.frame(\n",
        "  age, age_sq, house_ownership, labor_status, electricity,\n",
        "  walls = factor(walls), roof = factor(roof),\n",
        "  floor = factor(floor), area = factor(area)\n",
        ")\n",
        "\n",
        "# 2. Create dummy indicators (one column per level)\n",
        "dummies <- model.matrix(~ walls + roof + floor + area - 1, data = df)\n",
        "print(colnames(dummies))    # inspect which dummy columns you got\n",
        "df <- cbind(df, dummies)\n",
        "\n",
        "# 3. Define “base” coefficients\n",
        "base_coeffs <- c(\n",
        "  age             = 0.3,\n",
        "  age_sq          = -0.002,\n",
        "  house_ownership = 5,\n",
        "  labor_status    = 10,\n",
        "  electricity     = 8\n",
        ")\n",
        "\n",
        "# 4. Define dummy‐variable coefficients\n",
        "#    (only for the dummy columns you actually have)\n",
        "dummy_coeffs <- c(\n",
        "  wallsbrick    =  3,\n",
        "  wallsmud      = -3,\n",
        "  roofmetal     =  4,\n",
        "  roofthatch    = -4,\n",
        "  floordirt     = -5,\n",
        "  floorconcrete =  5,\n",
        "  floortile     = 10,\n",
        "  areaurban     =  7,\n",
        "  arearural     = -7\n",
        ")\n",
        "\n",
        "# 5. Build the linear predictor\n",
        "# 5.1 Start with the “base” terms\n",
        "linear_part <- with(df,\n",
        "  age * base_coeffs[\"age\"] +\n",
        "  age_sq * base_coeffs[\"age_sq\"] +\n",
        "  house_ownership * base_coeffs[\"house_ownership\"] +\n",
        "  labor_status * base_coeffs[\"labor_status\"] +\n",
        "  electricity * base_coeffs[\"electricity\"]\n",
        ")\n",
        "\n",
        "# 5.2 Add in each dummy term that exists in df\n",
        "for (nm in intersect(names(dummy_coeffs), colnames(df))) {\n",
        "  linear_part <- linear_part + df[[nm]] * dummy_coeffs[nm]\n",
        "}\n",
        "\n",
        "# 6. Add non‐normal (exponential) noise\n",
        "noise <- rexp(n, rate = 1/10) - 10\n",
        "\n",
        "# 7. Final consumption per capita\n",
        "df$consumption_per_capita <- linear_part + noise\n",
        "\n",
        "# 8. Quick check\n",
        "head(df)\n"
      ],
      "metadata": {
        "colab": {
          "base_uri": "https://localhost:8080/",
          "height": 342
        },
        "id": "BW-_7JPIiq-t",
        "outputId": "5fad25c6-fa4a-4577-8e35-25c062c905c8"
      },
      "execution_count": 5,
      "outputs": [
        {
          "output_type": "stream",
          "name": "stdout",
          "text": [
            "[1] \"wallsbrick\" \"wallsmud\"   \"roofthatch\" \"floordirt\"  \"floortile\" \n",
            "[6] \"areaurban\" \n"
          ]
        },
        {
          "output_type": "display_data",
          "data": {
            "text/html": [
              "<table class=\"dataframe\">\n",
              "<caption>A data.frame: 6 × 16</caption>\n",
              "<thead>\n",
              "\t<tr><th></th><th scope=col>age</th><th scope=col>age_sq</th><th scope=col>house_ownership</th><th scope=col>labor_status</th><th scope=col>electricity</th><th scope=col>walls</th><th scope=col>roof</th><th scope=col>floor</th><th scope=col>area</th><th scope=col>wallsbrick</th><th scope=col>wallsmud</th><th scope=col>roofthatch</th><th scope=col>floordirt</th><th scope=col>floortile</th><th scope=col>areaurban</th><th scope=col>consumption_per_capita</th></tr>\n",
              "\t<tr><th></th><th scope=col>&lt;int&gt;</th><th scope=col>&lt;dbl&gt;</th><th scope=col>&lt;int&gt;</th><th scope=col>&lt;int&gt;</th><th scope=col>&lt;int&gt;</th><th scope=col>&lt;fct&gt;</th><th scope=col>&lt;fct&gt;</th><th scope=col>&lt;fct&gt;</th><th scope=col>&lt;fct&gt;</th><th scope=col>&lt;dbl&gt;</th><th scope=col>&lt;dbl&gt;</th><th scope=col>&lt;dbl&gt;</th><th scope=col>&lt;dbl&gt;</th><th scope=col>&lt;dbl&gt;</th><th scope=col>&lt;dbl&gt;</th><th scope=col>&lt;dbl&gt;</th></tr>\n",
              "</thead>\n",
              "<tbody>\n",
              "\t<tr><th scope=row>1</th><td>31</td><td> 961</td><td>0</td><td>1</td><td>1</td><td>mud  </td><td>metal </td><td>dirt    </td><td>urban</td><td>0</td><td>1</td><td>0</td><td>1</td><td>0</td><td>1</td><td>14.7274878</td></tr>\n",
              "\t<tr><th scope=row>2</th><td>74</td><td>5476</td><td>1</td><td>1</td><td>1</td><td>mud  </td><td>thatch</td><td>concrete</td><td>rural</td><td>0</td><td>1</td><td>1</td><td>0</td><td>0</td><td>0</td><td>25.5128822</td></tr>\n",
              "\t<tr><th scope=row>3</th><td>21</td><td> 441</td><td>1</td><td>1</td><td>1</td><td>mud  </td><td>metal </td><td>concrete</td><td>rural</td><td>0</td><td>1</td><td>0</td><td>0</td><td>0</td><td>0</td><td>16.0995140</td></tr>\n",
              "\t<tr><th scope=row>4</th><td>56</td><td>3136</td><td>1</td><td>1</td><td>1</td><td>brick</td><td>metal </td><td>concrete</td><td>urban</td><td>1</td><td>0</td><td>0</td><td>0</td><td>0</td><td>1</td><td>41.7422910</td></tr>\n",
              "\t<tr><th scope=row>5</th><td>18</td><td> 324</td><td>0</td><td>0</td><td>1</td><td>mud  </td><td>metal </td><td>concrete</td><td>rural</td><td>0</td><td>1</td><td>0</td><td>0</td><td>0</td><td>0</td><td> 0.0273705</td></tr>\n",
              "\t<tr><th scope=row>6</th><td>51</td><td>2601</td><td>0</td><td>1</td><td>0</td><td>brick</td><td>metal </td><td>concrete</td><td>rural</td><td>1</td><td>0</td><td>0</td><td>0</td><td>0</td><td>0</td><td>13.3279851</td></tr>\n",
              "</tbody>\n",
              "</table>\n"
            ],
            "text/markdown": "\nA data.frame: 6 × 16\n\n| <!--/--> | age &lt;int&gt; | age_sq &lt;dbl&gt; | house_ownership &lt;int&gt; | labor_status &lt;int&gt; | electricity &lt;int&gt; | walls &lt;fct&gt; | roof &lt;fct&gt; | floor &lt;fct&gt; | area &lt;fct&gt; | wallsbrick &lt;dbl&gt; | wallsmud &lt;dbl&gt; | roofthatch &lt;dbl&gt; | floordirt &lt;dbl&gt; | floortile &lt;dbl&gt; | areaurban &lt;dbl&gt; | consumption_per_capita &lt;dbl&gt; |\n|---|---|---|---|---|---|---|---|---|---|---|---|---|---|---|---|---|\n| 1 | 31 |  961 | 0 | 1 | 1 | mud   | metal  | dirt     | urban | 0 | 1 | 0 | 1 | 0 | 1 | 14.7274878 |\n| 2 | 74 | 5476 | 1 | 1 | 1 | mud   | thatch | concrete | rural | 0 | 1 | 1 | 0 | 0 | 0 | 25.5128822 |\n| 3 | 21 |  441 | 1 | 1 | 1 | mud   | metal  | concrete | rural | 0 | 1 | 0 | 0 | 0 | 0 | 16.0995140 |\n| 4 | 56 | 3136 | 1 | 1 | 1 | brick | metal  | concrete | urban | 1 | 0 | 0 | 0 | 0 | 1 | 41.7422910 |\n| 5 | 18 |  324 | 0 | 0 | 1 | mud   | metal  | concrete | rural | 0 | 1 | 0 | 0 | 0 | 0 |  0.0273705 |\n| 6 | 51 | 2601 | 0 | 1 | 0 | brick | metal  | concrete | rural | 1 | 0 | 0 | 0 | 0 | 0 | 13.3279851 |\n\n",
            "text/latex": "A data.frame: 6 × 16\n\\begin{tabular}{r|llllllllllllllll}\n  & age & age\\_sq & house\\_ownership & labor\\_status & electricity & walls & roof & floor & area & wallsbrick & wallsmud & roofthatch & floordirt & floortile & areaurban & consumption\\_per\\_capita\\\\\n  & <int> & <dbl> & <int> & <int> & <int> & <fct> & <fct> & <fct> & <fct> & <dbl> & <dbl> & <dbl> & <dbl> & <dbl> & <dbl> & <dbl>\\\\\n\\hline\n\t1 & 31 &  961 & 0 & 1 & 1 & mud   & metal  & dirt     & urban & 0 & 1 & 0 & 1 & 0 & 1 & 14.7274878\\\\\n\t2 & 74 & 5476 & 1 & 1 & 1 & mud   & thatch & concrete & rural & 0 & 1 & 1 & 0 & 0 & 0 & 25.5128822\\\\\n\t3 & 21 &  441 & 1 & 1 & 1 & mud   & metal  & concrete & rural & 0 & 1 & 0 & 0 & 0 & 0 & 16.0995140\\\\\n\t4 & 56 & 3136 & 1 & 1 & 1 & brick & metal  & concrete & urban & 1 & 0 & 0 & 0 & 0 & 1 & 41.7422910\\\\\n\t5 & 18 &  324 & 0 & 0 & 1 & mud   & metal  & concrete & rural & 0 & 1 & 0 & 0 & 0 & 0 &  0.0273705\\\\\n\t6 & 51 & 2601 & 0 & 1 & 0 & brick & metal  & concrete & rural & 1 & 0 & 0 & 0 & 0 & 0 & 13.3279851\\\\\n\\end{tabular}\n",
            "text/plain": [
              "  age age_sq house_ownership labor_status electricity walls roof   floor   \n",
              "1 31   961   0               1            1           mud   metal  dirt    \n",
              "2 74  5476   1               1            1           mud   thatch concrete\n",
              "3 21   441   1               1            1           mud   metal  concrete\n",
              "4 56  3136   1               1            1           brick metal  concrete\n",
              "5 18   324   0               0            1           mud   metal  concrete\n",
              "6 51  2601   0               1            0           brick metal  concrete\n",
              "  area  wallsbrick wallsmud roofthatch floordirt floortile areaurban\n",
              "1 urban 0          1        0          1         0         1        \n",
              "2 rural 0          1        1          0         0         0        \n",
              "3 rural 0          1        0          0         0         0        \n",
              "4 urban 1          0        0          0         0         1        \n",
              "5 rural 0          1        0          0         0         0        \n",
              "6 rural 1          0        0          0         0         0        \n",
              "  consumption_per_capita\n",
              "1 14.7274878            \n",
              "2 25.5128822            \n",
              "3 16.0995140            \n",
              "4 41.7422910            \n",
              "5  0.0273705            \n",
              "6 13.3279851            "
            ]
          },
          "metadata": {}
        }
      ]
    }
  ]
}