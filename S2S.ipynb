{
  "nbformat": 4,
  "nbformat_minor": 0,
  "metadata": {
    "colab": {
      "provenance": [],
      "authorship_tag": "ABX9TyPvSbOxCJaA55Dfp1oBogoN",
      "include_colab_link": true
    },
    "kernelspec": {
      "name": "ir",
      "display_name": "R"
    },
    "language_info": {
      "name": "R"
    }
  },
  "cells": [
    {
      "cell_type": "markdown",
      "metadata": {
        "id": "view-in-github",
        "colab_type": "text"
      },
      "source": [
        "<a href=\"https://colab.research.google.com/github/jefernandezec/s2s/blob/main/S2S.ipynb\" target=\"_parent\"><img src=\"https://colab.research.google.com/assets/colab-badge.svg\" alt=\"Open In Colab\"/></a>"
      ]
    },
    {
      "cell_type": "markdown",
      "source": [
        "# Fundamentals of Survey-to-Survey Imputation"
      ],
      "metadata": {
        "id": "S6bDzsofochT"
      }
    },
    {
      "cell_type": "markdown",
      "source": [
        "**1. Creating a dataset with a model-based consumption per capita**"
      ],
      "metadata": {
        "id": "SX9Z-o1mpWeO"
      }
    },
    {
      "cell_type": "markdown",
      "source": [
        "Set seed for reproducibility and simulate raw variables"
      ],
      "metadata": {
        "id": "80nHCZvRondb"
      }
    },
    {
      "cell_type": "code",
      "source": [
        "set.seed(1729)\n",
        "n <- 1000\n",
        "\n",
        "age             <- sample(18:79, n, replace = TRUE)\n",
        "age_sq          <- age^2\n",
        "house_ownership <- rbinom(n, 1, 0.6)   # 1 = owns house\n",
        "employed    <- rbinom(n, 1, 0.7)   # 1 = employed\n",
        "electricity     <- rbinom(n, 1, 0.8)   # 1 = has electricity\n",
        "wallsbrick <- rbinom(n, 1, 0.75)   # 1 = walls material: brick\n",
        "roofmetal  <- rbinom(n, 1, 0.25)   # 1 = roof material: brick\n",
        "floordirt  <- rbinom(n, 1, 0.15)   # 1 = floor material: dirt\n",
        "areaurban  <- rbinom(n, 1, 0.65)   # 1 = urban\n",
        "\n",
        "df <- data.frame(\n",
        "  age, age_sq, house_ownership, employed, electricity,\n",
        "  wallsbrick,roofmetal,floordirt,areaurban\n",
        ")"
      ],
      "metadata": {
        "id": "BW-_7JPIiq-t"
      },
      "execution_count": null,
      "outputs": []
    },
    {
      "cell_type": "markdown",
      "source": [
        "Define \"actual\" coefficients"
      ],
      "metadata": {
        "id": "RGLijuIIpqQ2"
      }
    },
    {
      "cell_type": "code",
      "source": [
        "base_coeffs <- c(\n",
        "  age             = 0.3,\n",
        "  age_sq          = -0.002,\n",
        "  house_ownership = 5,\n",
        "  employed    = 10,\n",
        "  electricity     = 8,\n",
        "  wallsbrick     =3,\n",
        "  roofmetal     = 4,\n",
        "  floordirt     = -5,\n",
        "  areaurban    =7\n",
        ")"
      ],
      "metadata": {
        "id": "DV45ynMGpyc9"
      },
      "execution_count": null,
      "outputs": []
    },
    {
      "cell_type": "markdown",
      "source": [
        "Simulate normal random noise and create per capita consumption"
      ],
      "metadata": {
        "id": "uAuoKwg4p2mp"
      }
    },
    {
      "cell_type": "code",
      "source": [
        "noise=rnorm(n)\n",
        "#noise=rexp(n, rate = 1/10) - 10 #alternative for non-normal noise\n",
        "base_coeffs = matrix(base_coeffs,ncol=1)\n",
        "\n",
        "df$consumption_pc=exp(as.matrix(df)%*%base_coeffs+noise) #using exp so the model can be estimated in log\n",
        "#df$consumption_pc=as.matrix(df)%*%base_coeffs+noise #alternative for non-normal noise"
      ],
      "metadata": {
        "id": "fcgoxOTZp-yP"
      },
      "execution_count": null,
      "outputs": []
    }
  ]
}