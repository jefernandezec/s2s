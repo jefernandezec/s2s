{
  "nbformat": 4,
  "nbformat_minor": 0,
  "metadata": {
    "colab": {
      "provenance": [],
      "authorship_tag": "ABX9TyNAHLCzY3OA0p/8t8YP+vxq",
      "include_colab_link": true
    },
    "kernelspec": {
      "name": "ir",
      "display_name": "R"
    },
    "language_info": {
      "name": "R"
    }
  },
  "cells": [
    {
      "cell_type": "markdown",
      "metadata": {
        "id": "view-in-github",
        "colab_type": "text"
      },
      "source": [
        "<a href=\"https://colab.research.google.com/github/jefernandezec/s2s/blob/main/S2S.ipynb\" target=\"_parent\"><img src=\"https://colab.research.google.com/assets/colab-badge.svg\" alt=\"Open In Colab\"/></a>"
      ]
    },
    {
      "cell_type": "markdown",
      "source": [
        "# Fundamentals of Survey-to-Survey Imputation"
      ],
      "metadata": {
        "id": "S6bDzsofochT"
      }
    },
    {
      "cell_type": "markdown",
      "source": [
        "**0. Setup**"
      ],
      "metadata": {
        "id": "k5EiwcpRusoh"
      }
    },
    {
      "cell_type": "code",
      "source": [
        "install.packages(\"glmnet\")\n",
        "library(glmnet)\n",
        "library(ggplot2)\n"
      ],
      "metadata": {
        "id": "qkOsJlryuyMT"
      },
      "execution_count": null,
      "outputs": []
    },
    {
      "cell_type": "markdown",
      "source": [
        "**1. Creating a dataset with a model-based consumption per capita**"
      ],
      "metadata": {
        "id": "SX9Z-o1mpWeO"
      }
    },
    {
      "cell_type": "markdown",
      "source": [
        "Set seed for reproducibility and simulate raw variables"
      ],
      "metadata": {
        "id": "80nHCZvRondb"
      }
    },
    {
      "cell_type": "code",
      "source": [
        "set.seed(1729)\n",
        "n <- 1000\n",
        "\n",
        "age             <- sample(18:79, n, replace = TRUE)\n",
        "age_sq          <- age^2\n",
        "house_ownership <- rbinom(n, 1, 0.6)   # 1 = owns house\n",
        "employed    <- rbinom(n, 1, 0.7)   # 1 = employed\n",
        "electricity     <- rbinom(n, 1, 0.8)   # 1 = has electricity\n",
        "wallsbrick <- rbinom(n, 1, 0.75)   # 1 = walls material: brick\n",
        "roofmetal  <- rbinom(n, 1, 0.25)   # 1 = roof material: brick\n",
        "floordirt  <- rbinom(n, 1, 0.15)   # 1 = floor material: dirt\n",
        "areaurban  <- rbinom(n, 1, 0.65)   # 1 = urban\n",
        "hhsize     <- sample(1:8, n, replace = TRUE)\n",
        "\n",
        "df <- data.frame(\n",
        "  age, age_sq, house_ownership, employed, electricity,\n",
        "  wallsbrick,roofmetal,floordirt,areaurban,hhsize\n",
        ")"
      ],
      "metadata": {
        "id": "BW-_7JPIiq-t"
      },
      "execution_count": 11,
      "outputs": []
    },
    {
      "cell_type": "markdown",
      "source": [
        "Define \"actual\" coefficients"
      ],
      "metadata": {
        "id": "RGLijuIIpqQ2"
      }
    },
    {
      "cell_type": "code",
      "source": [
        "base_coeffs <- c(\n",
        "  age             = 0.3,\n",
        "  age_sq          = -0.002,\n",
        "  house_ownership = 5,\n",
        "  employed    = 10,\n",
        "  electricity     = 8,\n",
        "  wallsbrick     =3,\n",
        "  roofmetal     = 4,\n",
        "  floordirt     = -5,\n",
        "  areaurban    =7\n",
        ")"
      ],
      "metadata": {
        "id": "DV45ynMGpyc9"
      },
      "execution_count": 12,
      "outputs": []
    },
    {
      "cell_type": "markdown",
      "source": [
        "Simulate normal random noise and create per capita consumption"
      ],
      "metadata": {
        "id": "uAuoKwg4p2mp"
      }
    },
    {
      "cell_type": "code",
      "source": [
        "noise=rnorm(n,sd=3) #alternative for normal noise\n",
        "#noise=rexp(n, rate = 1/10) - 10\n",
        "base_coeffs = matrix(base_coeffs,ncol=1)\n",
        "\n",
        "#df$consumption_pc=exp(B_0 + as.matrix(df)%*%base_coeffs+noise) #alternative for normal noise\n",
        "df$consumption_pc=as.matrix(df[,-10])%*%base_coeffs+noise\n",
        "\n",
        "head(df)"
      ],
      "metadata": {
        "id": "fcgoxOTZp-yP"
      },
      "execution_count": null,
      "outputs": []
    },
    {
      "cell_type": "markdown",
      "source": [
        "Visualize the density plot"
      ],
      "metadata": {
        "id": "uN2QMacwqvJo"
      }
    },
    {
      "cell_type": "code",
      "source": [
        "library(ggplot2)\n",
        "\n",
        "ggplot(df, aes(x = consumption_pc)) +\n",
        "  geom_density(fill = \"skyblue\", color = \"blue\") +\n",
        "  theme_minimal()"
      ],
      "metadata": {
        "id": "31QCW1KLqubH"
      },
      "execution_count": null,
      "outputs": []
    },
    {
      "cell_type": "markdown",
      "source": [
        "**2. Predicting consumption**"
      ],
      "metadata": {
        "id": "E7Q2RsODu7MZ"
      }
    },
    {
      "cell_type": "markdown",
      "source": [
        "Adjust linear model for consumption_pc"
      ],
      "metadata": {
        "id": "NH8d-Iljsjhu"
      }
    },
    {
      "cell_type": "code",
      "source": [
        "mod0=lm(consumption_pc ~ . , df)\n",
        "summary(mod0)"
      ],
      "metadata": {
        "id": "_I_IK92Vshun"
      },
      "execution_count": null,
      "outputs": []
    },
    {
      "cell_type": "markdown",
      "source": [
        "Visualize residuals"
      ],
      "metadata": {
        "id": "Lf4zCY5dtAgV"
      }
    },
    {
      "cell_type": "code",
      "source": [
        "df$residuals = mod0$residuals\n",
        "\n",
        "ggplot(df, aes(x = residuals)) +\n",
        "  geom_density(fill = \"skyblue\", color = \"blue\") +\n",
        "  theme_minimal()\n"
      ],
      "metadata": {
        "id": "4msumpI6tPcR"
      },
      "execution_count": null,
      "outputs": []
    },
    {
      "cell_type": "markdown",
      "source": [
        "How does the prediction look compared to the actual distribution?"
      ],
      "metadata": {
        "id": "isyh5XP5P7Gz"
      }
    },
    {
      "cell_type": "code",
      "source": [
        "df$predicted <- predict(mod0)\n",
        "\n",
        "ggplot(df, aes(x = consumption_pc)) +\n",
        "  geom_density(aes(fill = \"Actual\"), alpha = 0.5) +\n",
        "  geom_density(aes(x = predicted, fill = \"Predicted\"), alpha = 0.5) +\n",
        "  scale_fill_manual(values = c(\"Actual\" = \"skyblue\", \"Predicted\" = \"lightcoral\")) +\n",
        "  theme_minimal() +\n",
        "  labs(title = \"Density Plot of Actual vs. Predicted Consumption per Capita\",\n",
        "       x = \"Consumption per Capita\",\n",
        "       fill = \"Distribution\")"
      ],
      "metadata": {
        "id": "NYA6fpn6QYNR"
      },
      "execution_count": null,
      "outputs": []
    },
    {
      "cell_type": "markdown",
      "source": [
        "More realistic: dropping a **few** covariates"
      ],
      "metadata": {
        "id": "IUnWEKDsteIJ"
      }
    },
    {
      "cell_type": "code",
      "source": [
        "mod1=lm(consumption_pc ~ age+age_sq+areaurban +electricity+house_ownership+roofmetal+hhsize, df)\n",
        "summary(mod1)"
      ],
      "metadata": {
        "id": "02kFNuMTtoZA"
      },
      "execution_count": null,
      "outputs": []
    },
    {
      "cell_type": "markdown",
      "source": [
        "Visualize residuals"
      ],
      "metadata": {
        "id": "CfaxTWFXRJx4"
      }
    },
    {
      "cell_type": "code",
      "source": [
        "df$residuals = mod1$residuals\n",
        "\n",
        "ggplot(df, aes(x = residuals)) +\n",
        "  geom_density(fill = \"skyblue\", color = \"blue\") +\n",
        "  theme_minimal()"
      ],
      "metadata": {
        "id": "ojluPV1gRN4S"
      },
      "execution_count": null,
      "outputs": []
    },
    {
      "cell_type": "markdown",
      "source": [
        "And the prediction..."
      ],
      "metadata": {
        "id": "hMpq-DadRfAa"
      }
    },
    {
      "cell_type": "code",
      "source": [
        "df$predicted <- predict(mod1)\n",
        "\n",
        "ggplot(df, aes(x = consumption_pc)) +\n",
        "  geom_density(aes(fill = \"Actual\"), alpha = 0.5) +\n",
        "  geom_density(aes(x = predicted, fill = \"Predicted\"), alpha = 0.5) +\n",
        "  scale_fill_manual(values = c(\"Actual\" = \"skyblue\", \"Predicted\" = \"lightcoral\")) +\n",
        "  theme_minimal() +\n",
        "  labs(title = \"Density Plot of Actual vs. Predicted Consumption per Capita\",\n",
        "       x = \"Consumption per Capita\",\n",
        "       fill = \"Distribution\")"
      ],
      "metadata": {
        "id": "mjBEMDxdRhAa"
      },
      "execution_count": null,
      "outputs": []
    },
    {
      "cell_type": "markdown",
      "source": [
        "Estimating poverty rate. Assume poverty line = 32."
      ],
      "metadata": {
        "id": "uy7KyEF7Tns-"
      }
    },
    {
      "cell_type": "code",
      "source": [
        "# Actual\n",
        "cat(\"Actual poverty rate: \",mean(df$consumption_pc<32),\"\\n\")\n",
        "\n",
        "# Predicted\n",
        "cat(\"Predicted poverty rate: \",mean(df$predicted<32))"
      ],
      "metadata": {
        "id": "WIR0pms6UgrC"
      },
      "execution_count": null,
      "outputs": []
    },
    {
      "cell_type": "markdown",
      "source": [
        "Good enough. What if poverty line = 27"
      ],
      "metadata": {
        "id": "xQj8O3LEU4HM"
      }
    },
    {
      "cell_type": "code",
      "source": [
        "# Actual\n",
        "cat(\"Actual poverty rate: \",mean(df$consumption_pc<27),\"\\n\")\n",
        "\n",
        "# Predicted\n",
        "cat(\"Predicted poverty rate: \",mean(df$predicted<27))"
      ],
      "metadata": {
        "id": "BvPEDVAEVxWh"
      },
      "execution_count": null,
      "outputs": []
    },
    {
      "cell_type": "markdown",
      "source": [
        "Uh-oh. Something went wrong. Let's explore."
      ],
      "metadata": {
        "id": "pe6RJYutWGuJ"
      }
    },
    {
      "cell_type": "code",
      "source": [
        "ggplot(df, aes(x = consumption_pc)) +\n",
        "  stat_ecdf(aes(color = \"Actual\")) +\n",
        "  stat_ecdf(aes(x = predicted, color = \"Predicted\")) +\n",
        "  scale_color_manual(values = c(\"Actual\" = \"skyblue\", \"Predicted\" = \"lightcoral\")) +\n",
        "  theme_minimal() +\n",
        "  labs(title = \"ECDF Plot of Actual vs. Predicted Consumption per Capita\",\n",
        "       x = \"Consumption per Capita\",\n",
        "       color = \"Distribution\")"
      ],
      "metadata": {
        "id": "T4-M-YJwUNon"
      },
      "execution_count": null,
      "outputs": []
    },
    {
      "cell_type": "markdown",
      "source": [
        "Let's try to get a better hat using stepwise selection"
      ],
      "metadata": {
        "id": "ss-2ld3rXv-A"
      }
    },
    {
      "cell_type": "code",
      "source": [
        "mod2=step(mod1)\n",
        "summary(mod2)"
      ],
      "metadata": {
        "id": "xrrb-5u-XzSK"
      },
      "execution_count": null,
      "outputs": []
    },
    {
      "cell_type": "code",
      "source": [
        "df$predicted <- predict(mod2)\n",
        "# Actual\n",
        "cat(\"Actual poverty rate: \",mean(df$consumption_pc<27),\"\\n\")\n",
        "\n",
        "# Predicted\n",
        "cat(\"Predicted poverty rate: \",mean(df$predicted<27))\n"
      ],
      "metadata": {
        "id": "c10LUxpCaUGr"
      },
      "execution_count": null,
      "outputs": []
    },
    {
      "cell_type": "markdown",
      "source": [
        "One more try. Let's lasso it."
      ],
      "metadata": {
        "id": "_37n4AIibo6-"
      }
    },
    {
      "cell_type": "code",
      "source": [
        "x <- model.matrix(consumption_pc ~ age+age_sq+areaurban +electricity+house_ownership+roofmetal, df)[,-1]\n",
        "y <- df$consumption_pc\n",
        "lasso_mod <- glmnet(x, y, alpha = 1)\n",
        "df$predicted_lasso <- predict(lasso_mod, newx = x, s = min(lasso_mod$lambda)) # Use the minimum lambda\n",
        "\n",
        "# Actual\n",
        "cat(\"Actual poverty rate: \",mean(df$consumption_pc<27),\"\\n\")\n",
        "\n",
        "# Predicted Lasso\n",
        "cat(\"Predicted lasso poverty rate: \",mean(df$predicted_lasso<27))"
      ],
      "metadata": {
        "id": "4W2Unv0Ybtcg"
      },
      "execution_count": null,
      "outputs": []
    },
    {
      "cell_type": "markdown",
      "source": [
        "Not quite. How about the distribution"
      ],
      "metadata": {
        "id": "MdY4SCYJduTT"
      }
    },
    {
      "cell_type": "code",
      "source": [
        "ggplot(df, aes(x = consumption_pc)) +\n",
        "  stat_ecdf(aes(color = \"Actual\")) +\n",
        "  stat_ecdf(aes(x = predicted_lasso, color = \"Predicted\")) +\n",
        "  scale_color_manual(values = c(\"Actual\" = \"skyblue\", \"Predicted\" = \"lightcoral\")) +\n",
        "  theme_minimal() +\n",
        "  labs(title = \"ECDF Plot of Actual vs. Predicted Consumption per Capita\",\n",
        "       x = \"Consumption per Capita\",\n",
        "       color = \"Distribution\")"
      ],
      "metadata": {
        "id": "ztNr8Vc8dzIN"
      },
      "execution_count": null,
      "outputs": []
    },
    {
      "cell_type": "markdown",
      "source": [
        "Root mean square error"
      ],
      "metadata": {
        "id": "wSWLHGKCzXeH"
      }
    },
    {
      "cell_type": "code",
      "source": [
        "# Function to calculate RMSE\n",
        "rmse <- function(actual, predicted) {\n",
        "  sqrt(mean((actual - predicted)^2))\n",
        "}\n",
        "\n",
        "# Calculate RMSE for mod2\n",
        "rmse_mod2 <- rmse(df$consumption_pc, df$predicted)\n",
        "cat(\"RMSE for mod2:\", rmse_mod2, \"\\n\")\n",
        "\n",
        "# Calculate RMSE for lasso_mod\n",
        "rmse_lasso <- rmse(df$consumption_pc, df$predicted_lasso)\n",
        "cat(\"RMSE for lasso_mod:\", rmse_lasso, \"\\n\")"
      ],
      "metadata": {
        "id": "8Q0dQQF8xpRF"
      },
      "execution_count": null,
      "outputs": []
    },
    {
      "cell_type": "markdown",
      "source": [
        "R-squared"
      ],
      "metadata": {
        "id": "1y5tEf8Fzldv"
      }
    },
    {
      "cell_type": "code",
      "source": [
        "# Function to calculate R-squared\n",
        "rsquared <- function(actual, predicted) {\n",
        "  rss <- sum((actual - predicted)^2)\n",
        "  tss <- sum((actual - mean(actual))^2)\n",
        "  1 - (rss / tss)\n",
        "}\n",
        "\n",
        "# Calculate R-squared for mod2\n",
        "rsquared_mod2 <- rsquared(df$consumption_pc, df$predicted)\n",
        "cat(\"R-squared for mod2:\", rsquared_mod2, \"\\n\")\n",
        "\n",
        "# Calculate R-squared for lasso_mod\n",
        "rsquared_lasso <- rsquared(df$consumption_pc, df$predicted_lasso)\n",
        "cat(\"R-squared for lasso_mod:\", rsquared_lasso, \"\\n\")"
      ],
      "metadata": {
        "id": "AkFspELAzoH9"
      },
      "execution_count": null,
      "outputs": []
    },
    {
      "cell_type": "markdown",
      "source": [
        "Negligible differences. Let's go ahead with mod2 for simplicity"
      ],
      "metadata": {
        "id": "6ISgVLMl0sRF"
      }
    },
    {
      "cell_type": "markdown",
      "source": [
        "**Add-ons**"
      ],
      "metadata": {
        "id": "hYrFy99J1bOB"
      }
    },
    {
      "cell_type": "markdown",
      "source": [
        "Adding normal random noise and calculating the poverty rate"
      ],
      "metadata": {
        "id": "CYisDgPJ1X7W"
      }
    },
    {
      "cell_type": "code",
      "source": [
        "df$prediction_plus_noise <- predict(mod2) + rnorm(n, sd = summary(mod2)$sigma)\n",
        "\n",
        "cat(\"Predicted mod2 plus noise poverty rate: \",mean(df$prediction_plus_noise<27))"
      ],
      "metadata": {
        "id": "Cp7dNhhR0zHv"
      },
      "execution_count": null,
      "outputs": []
    },
    {
      "cell_type": "markdown",
      "source": [
        "Promising. Now let's check the distributions."
      ],
      "metadata": {
        "id": "qUgZX8Ab1qw3"
      }
    },
    {
      "cell_type": "code",
      "source": [
        "ggplot(df, aes(x = consumption_pc)) +\n",
        "  geom_density(aes(fill = \"Actual\"), alpha = 0.5) +\n",
        "  geom_density(aes(x = prediction_plus_noise, fill = \"Predicted\"), alpha = 0.5) +\n",
        "  scale_fill_manual(values = c(\"Actual\" = \"skyblue\", \"Predicted\" = \"lightcoral\")) +\n",
        "  theme_minimal() +\n",
        "  labs(title = \"Density Plot of Actual vs. Predicted Consumption per Capita (Plus Noise)\",\n",
        "       x = \"Consumption per Capita\",\n",
        "       fill = \"Distribution\")"
      ],
      "metadata": {
        "id": "W7ELf3-O10ms"
      },
      "execution_count": null,
      "outputs": []
    },
    {
      "cell_type": "markdown",
      "source": [
        " Looks good. Let's do it more times and see how poverty rates look"
      ],
      "metadata": {
        "id": "0VOA75_E2IFy"
      }
    },
    {
      "cell_type": "code",
      "source": [
        "simulations <- 20\n",
        "poverty_rates <- numeric(simulations)\n",
        "predicted_consumption_list <- list()\n",
        "\n",
        "for (i in 1:simulations) {\n",
        "  df$prediction_plus_noise <- predict(mod2) + rnorm(n, sd = summary(mod2)$sigma)\n",
        "  poverty_rates[i] <- mean(df$prediction_plus_noise < 27)\n",
        "  predicted_consumption_list[[i]] <- df$prediction_plus_noise\n",
        "}\n",
        "\n",
        "# Create a data frame for the poverty rates from simulations\n",
        "poverty_rates_df <- data.frame(poverty_rate = poverty_rates)\n",
        "\n",
        "# Plot the density of the poverty rates\n",
        "ggplot(poverty_rates_df, aes(x = poverty_rate)) +\n",
        "  geom_density(fill = \"skyblue\", color = \"blue\") +\n",
        "  theme_minimal() +\n",
        "  labs(title = \"Density Plot of Poverty Rates from 20 Simulations\",\n",
        "       x = \"Poverty Rate\")"
      ],
      "metadata": {
        "id": "Ck-l5Xvb2sEV",
        "outputId": "cd535ebf-16b2-468d-de45-ed777b8741a8",
        "colab": {
          "base_uri": "https://localhost:8080/",
          "height": 455
        }
      },
      "execution_count": 28,
      "outputs": [
        {
          "output_type": "stream",
          "name": "stdout",
          "text": [
            "Average predicted poverty rate: 0.25045 \n"
          ]
        },
        {
          "output_type": "display_data",
          "data": {
            "text/plain": [
              "plot without title"
            ],
            "image/png": "[encoded data removed]"
          },
          "metadata": {
            "image/png": {
              "width": 420,
              "height": 420
            }
          }
        }
      ]
    },
    {
      "cell_type": "markdown",
      "source": [
        "And the average poverty rate"
      ],
      "metadata": {
        "id": "L7tEPH1D4efL"
      }
    },
    {
      "cell_type": "code",
      "source": [
        "cat(\"Average predicted poverty rate:\", mean(poverty_rates), \"\\n\")"
      ],
      "metadata": {
        "id": "99odjpzn4xJS"
      },
      "execution_count": null,
      "outputs": []
    },
    {
      "cell_type": "markdown",
      "source": [
        "But we need one predicted vector. Let's average across simulations"
      ],
      "metadata": {
        "id": "tLXIJU5F484B"
      }
    },
    {
      "cell_type": "code",
      "source": [
        "# Average the predicted consumption across simulations\n",
        "df$avg_predicted_consumption <- rowMeans(do.call(cbind, predicted_consumption_list))\n",
        "\n",
        "ggplot(df, aes(x = consumption_pc)) +\n",
        "  geom_density(aes(fill = \"Actual\"), alpha = 0.5) +\n",
        "  geom_density(aes(x = avg_predicted_consumption, fill = \"Predicted\"), alpha = 0.5) +\n",
        "  scale_fill_manual(values = c(\"Actual\" = \"skyblue\", \"Predicted\" = \"lightcoral\")) +\n",
        "  theme_minimal() +\n",
        "  labs(title = \"Density Plot of Actual vs. Average Predicted Consumption per Capita (Plus Noise)\",\n",
        "       x = \"Consumption per Capita\",\n",
        "       fill = \"Distribution\")\n"
      ],
      "metadata": {
        "id": "9tPwkg0U5GTn",
        "outputId": "bb4fde6e-4f5f-4fdb-9992-704c61a0450e",
        "colab": {
          "base_uri": "https://localhost:8080/",
          "height": 437
        }
      },
      "execution_count": 34,
      "outputs": [
        {
          "output_type": "display_data",
          "data": {
            "text/plain": [
              "plot without title"
            ],
            "image/png": "[encoded data removed]"
          },
          "metadata": {
            "image/png": {
              "width": 420,
              "height": 420
            }
          }
        }
      ]
    },
    {
      "cell_type": "code",
      "source": [
        "Not again!"
      ],
      "metadata": {
        "id": "xkqpUe_S5fUt"
      },
      "execution_count": null,
      "outputs": []
    }
  ]
}