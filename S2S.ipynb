{
  "nbformat": 4,
  "nbformat_minor": 0,
  "metadata": {
    "colab": {
      "provenance": [],
      "authorship_tag": "ABX9TyPS8W+rYY0M8SS+I3cpYIhy",
      "include_colab_link": true
    },
    "kernelspec": {
      "name": "ir",
      "display_name": "R"
    },
    "language_info": {
      "name": "R"
    }
  },
  "cells": [
    {
      "cell_type": "markdown",
      "metadata": {
        "id": "view-in-github",
        "colab_type": "text"
      },
      "source": [
        "<a href=\"https://colab.research.google.com/github/jefernandezec/s2s/blob/main/S2S.ipynb\" target=\"_parent\"><img src=\"https://colab.research.google.com/assets/colab-badge.svg\" alt=\"Open In Colab\"/></a>"
      ]
    },
    {
      "cell_type": "markdown",
      "source": [
        "# Fundamentals of Survey-to-Survey Imputation"
      ],
      "metadata": {
        "id": "S6bDzsofochT"
      }
    },
    {
      "cell_type": "markdown",
      "source": [
        "**0. Setup**"
      ],
      "metadata": {
        "id": "k5EiwcpRusoh"
      }
    },
    {
      "cell_type": "code",
      "source": [
        "install.packages(c(\"glmnet\",\"transport\"))\n",
        "library(glmnet)\n",
        "library(ggplot2)\n",
        "library(transport)\n"
      ],
      "metadata": {
        "id": "qkOsJlryuyMT"
      },
      "execution_count": null,
      "outputs": []
    },
    {
      "cell_type": "markdown",
      "source": [
        "**1. Creating a dataset with a model-based consumption per capita**"
      ],
      "metadata": {
        "id": "SX9Z-o1mpWeO"
      }
    },
    {
      "cell_type": "markdown",
      "source": [
        "Set seed for reproducibility and simulate raw variables"
      ],
      "metadata": {
        "id": "80nHCZvRondb"
      }
    },
    {
      "cell_type": "code",
      "source": [
        "set.seed(1729)\n",
        "n <- 1000\n",
        "\n",
        "age             <- sample(18:79, n, replace = TRUE)\n",
        "age_sq          <- age^2\n",
        "house_ownership <- rbinom(n, 1, 0.6)   # 1 = owns house\n",
        "employed    <- rbinom(n, 1, 0.7)   # 1 = employed\n",
        "electricity     <- rbinom(n, 1, 0.8)   # 1 = has electricity\n",
        "wallsbrick <- rbinom(n, 1, 0.75)   # 1 = walls material: brick\n",
        "roofmetal  <- rbinom(n, 1, 0.25)   # 1 = roof material: brick\n",
        "floordirt  <- rbinom(n, 1, 0.15)   # 1 = floor material: dirt\n",
        "areaurban  <- rbinom(n, 1, 0.65)   # 1 = urban\n",
        "hhsize     <- sample(1:8, n, replace = TRUE)\n",
        "\n",
        "df <- data.frame(\n",
        "  age, age_sq, house_ownership, employed, electricity,\n",
        "  wallsbrick,roofmetal,floordirt,areaurban,hhsize\n",
        ")"
      ],
      "metadata": {
        "id": "BW-_7JPIiq-t"
      },
      "execution_count": 11,
      "outputs": []
    },
    {
      "cell_type": "markdown",
      "source": [
        "Define \"actual\" coefficients"
      ],
      "metadata": {
        "id": "RGLijuIIpqQ2"
      }
    },
    {
      "cell_type": "code",
      "source": [
        "base_coeffs <- c(\n",
        "  age             = 0.3,\n",
        "  age_sq          = -0.002,\n",
        "  house_ownership = 5,\n",
        "  employed    = 10,\n",
        "  electricity     = 8,\n",
        "  wallsbrick     =3,\n",
        "  roofmetal     = 4,\n",
        "  floordirt     = -5,\n",
        "  areaurban    =7\n",
        ")"
      ],
      "metadata": {
        "id": "DV45ynMGpyc9"
      },
      "execution_count": 12,
      "outputs": []
    },
    {
      "cell_type": "markdown",
      "source": [
        "Simulate normal random noise and create per capita consumption"
      ],
      "metadata": {
        "id": "uAuoKwg4p2mp"
      }
    },
    {
      "cell_type": "code",
      "source": [
        "noise=rnorm(n,sd=3) #alternative for normal noise\n",
        "#noise=rexp(n, rate = 1/10) - 10\n",
        "base_coeffs = matrix(base_coeffs,ncol=1)\n",
        "\n",
        "#df$consumption_pc=exp(B_0 + as.matrix(df)%*%base_coeffs+noise) #alternative for normal noise\n",
        "df$consumption_pc=as.matrix(df[,-10])%*%base_coeffs+noise\n",
        "\n",
        "head(df)"
      ],
      "metadata": {
        "id": "fcgoxOTZp-yP"
      },
      "execution_count": null,
      "outputs": []
    },
    {
      "cell_type": "markdown",
      "source": [
        "Visualize the density plot"
      ],
      "metadata": {
        "id": "uN2QMacwqvJo"
      }
    },
    {
      "cell_type": "code",
      "source": [
        "library(ggplot2)\n",
        "\n",
        "ggplot(df, aes(x = consumption_pc)) +\n",
        "  geom_density(fill = \"skyblue\", color = \"blue\") +\n",
        "  theme_minimal()"
      ],
      "metadata": {
        "id": "31QCW1KLqubH"
      },
      "execution_count": null,
      "outputs": []
    },
    {
      "cell_type": "markdown",
      "source": [
        "**2. Predicting consumption**"
      ],
      "metadata": {
        "id": "E7Q2RsODu7MZ"
      }
    },
    {
      "cell_type": "markdown",
      "source": [
        "Adjust linear model for consumption_pc"
      ],
      "metadata": {
        "id": "NH8d-Iljsjhu"
      }
    },
    {
      "cell_type": "code",
      "source": [
        "mod0=lm(consumption_pc ~ . , df)\n",
        "summary(mod0)"
      ],
      "metadata": {
        "id": "_I_IK92Vshun"
      },
      "execution_count": null,
      "outputs": []
    },
    {
      "cell_type": "markdown",
      "source": [
        "Visualize residuals"
      ],
      "metadata": {
        "id": "Lf4zCY5dtAgV"
      }
    },
    {
      "cell_type": "code",
      "source": [
        "df$residuals = mod0$residuals\n",
        "\n",
        "ggplot(df, aes(x = residuals)) +\n",
        "  geom_density(fill = \"skyblue\", color = \"blue\") +\n",
        "  theme_minimal()\n"
      ],
      "metadata": {
        "id": "4msumpI6tPcR"
      },
      "execution_count": null,
      "outputs": []
    },
    {
      "cell_type": "markdown",
      "source": [
        "How does the prediction look compared to the actual distribution?"
      ],
      "metadata": {
        "id": "isyh5XP5P7Gz"
      }
    },
    {
      "cell_type": "code",
      "source": [
        "df$predicted <- predict(mod0)\n",
        "\n",
        "ggplot(df, aes(x = consumption_pc)) +\n",
        "  geom_density(aes(fill = \"Actual\"), alpha = 0.5) +\n",
        "  geom_density(aes(x = predicted, fill = \"Predicted\"), alpha = 0.5) +\n",
        "  scale_fill_manual(values = c(\"Actual\" = \"skyblue\", \"Predicted\" = \"lightcoral\")) +\n",
        "  theme_minimal() +\n",
        "  labs(title = \"Density Plot of Actual vs. Predicted Consumption per Capita\",\n",
        "       x = \"Consumption per Capita\",\n",
        "       fill = \"Distribution\")"
      ],
      "metadata": {
        "id": "NYA6fpn6QYNR"
      },
      "execution_count": null,
      "outputs": []
    },
    {
      "cell_type": "markdown",
      "source": [
        "More realistic: dropping a **few** covariates"
      ],
      "metadata": {
        "id": "IUnWEKDsteIJ"
      }
    },
    {
      "cell_type": "code",
      "source": [
        "mod1=lm(consumption_pc ~ age+age_sq+areaurban +electricity+house_ownership+roofmetal+hhsize, df)\n",
        "summary(mod1)"
      ],
      "metadata": {
        "id": "02kFNuMTtoZA"
      },
      "execution_count": null,
      "outputs": []
    },
    {
      "cell_type": "markdown",
      "source": [
        "Visualize residuals"
      ],
      "metadata": {
        "id": "CfaxTWFXRJx4"
      }
    },
    {
      "cell_type": "code",
      "source": [
        "df$residuals = mod1$residuals\n",
        "\n",
        "ggplot(df, aes(x = residuals)) +\n",
        "  geom_density(fill = \"skyblue\", color = \"blue\") +\n",
        "  theme_minimal()"
      ],
      "metadata": {
        "id": "ojluPV1gRN4S"
      },
      "execution_count": null,
      "outputs": []
    },
    {
      "cell_type": "markdown",
      "source": [
        "And the prediction..."
      ],
      "metadata": {
        "id": "hMpq-DadRfAa"
      }
    },
    {
      "cell_type": "code",
      "source": [
        "df$predicted <- predict(mod1)\n",
        "\n",
        "ggplot(df, aes(x = consumption_pc)) +\n",
        "  geom_density(aes(fill = \"Actual\"), alpha = 0.5) +\n",
        "  geom_density(aes(x = predicted, fill = \"Predicted\"), alpha = 0.5) +\n",
        "  scale_fill_manual(values = c(\"Actual\" = \"skyblue\", \"Predicted\" = \"lightcoral\")) +\n",
        "  theme_minimal() +\n",
        "  labs(title = \"Density Plot of Actual vs. Predicted Consumption per Capita\",\n",
        "       x = \"Consumption per Capita\",\n",
        "       fill = \"Distribution\")"
      ],
      "metadata": {
        "id": "mjBEMDxdRhAa"
      },
      "execution_count": null,
      "outputs": []
    },
    {
      "cell_type": "markdown",
      "source": [
        "Estimating poverty rate. Assume poverty line = 32."
      ],
      "metadata": {
        "id": "uy7KyEF7Tns-"
      }
    },
    {
      "cell_type": "code",
      "source": [
        "# Actual\n",
        "cat(\"Actual poverty rate: \",mean(df$consumption_pc<32),\"\\n\")\n",
        "\n",
        "# Predicted\n",
        "cat(\"Predicted poverty rate: \",mean(df$predicted<32))"
      ],
      "metadata": {
        "id": "WIR0pms6UgrC"
      },
      "execution_count": null,
      "outputs": []
    },
    {
      "cell_type": "markdown",
      "source": [
        "Good enough. What if poverty line = 27"
      ],
      "metadata": {
        "id": "xQj8O3LEU4HM"
      }
    },
    {
      "cell_type": "code",
      "source": [
        "# Actual\n",
        "cat(\"Actual poverty rate: \",mean(df$consumption_pc<27),\"\\n\")\n",
        "\n",
        "# Predicted\n",
        "cat(\"Predicted poverty rate: \",mean(df$predicted<27))"
      ],
      "metadata": {
        "id": "BvPEDVAEVxWh"
      },
      "execution_count": null,
      "outputs": []
    },
    {
      "cell_type": "markdown",
      "source": [
        "Uh-oh. Something went wrong. Let's explore."
      ],
      "metadata": {
        "id": "pe6RJYutWGuJ"
      }
    },
    {
      "cell_type": "code",
      "source": [
        "ggplot(df, aes(x = consumption_pc)) +\n",
        "  stat_ecdf(aes(color = \"Actual\")) +\n",
        "  stat_ecdf(aes(x = predicted, color = \"Predicted\")) +\n",
        "  scale_color_manual(values = c(\"Actual\" = \"skyblue\", \"Predicted\" = \"lightcoral\")) +\n",
        "  theme_minimal() +\n",
        "  labs(title = \"ECDF Plot of Actual vs. Predicted Consumption per Capita\",\n",
        "       x = \"Consumption per Capita\",\n",
        "       color = \"Distribution\")"
      ],
      "metadata": {
        "id": "T4-M-YJwUNon"
      },
      "execution_count": null,
      "outputs": []
    },
    {
      "cell_type": "markdown",
      "source": [
        "Let's try to get a better hat using stepwise selection"
      ],
      "metadata": {
        "id": "ss-2ld3rXv-A"
      }
    },
    {
      "cell_type": "code",
      "source": [
        "mod2=step(mod1)\n",
        "summary(mod2)"
      ],
      "metadata": {
        "id": "xrrb-5u-XzSK"
      },
      "execution_count": null,
      "outputs": []
    },
    {
      "cell_type": "code",
      "source": [
        "df$predicted <- predict(mod2)\n",
        "# Actual\n",
        "cat(\"Actual poverty rate: \",mean(df$consumption_pc<27),\"\\n\")\n",
        "\n",
        "# Predicted\n",
        "cat(\"Predicted poverty rate: \",mean(df$predicted<27))\n"
      ],
      "metadata": {
        "id": "c10LUxpCaUGr"
      },
      "execution_count": null,
      "outputs": []
    },
    {
      "cell_type": "markdown",
      "source": [
        "One more try. Let's lasso it."
      ],
      "metadata": {
        "id": "_37n4AIibo6-"
      }
    },
    {
      "cell_type": "code",
      "source": [
        "x <- model.matrix(consumption_pc ~ age+age_sq+areaurban +electricity+house_ownership+roofmetal, df)[,-1]\n",
        "y <- df$consumption_pc\n",
        "lasso_mod <- glmnet(x, y, alpha = 1)\n",
        "df$predicted_lasso <- predict(lasso_mod, newx = x, s = min(lasso_mod$lambda)) # Use the minimum lambda\n",
        "\n",
        "# Actual\n",
        "cat(\"Actual poverty rate: \",mean(df$consumption_pc<27),\"\\n\")\n",
        "\n",
        "# Predicted Lasso\n",
        "cat(\"Predicted lasso poverty rate: \",mean(df$predicted_lasso<27))"
      ],
      "metadata": {
        "id": "4W2Unv0Ybtcg"
      },
      "execution_count": null,
      "outputs": []
    },
    {
      "cell_type": "markdown",
      "source": [
        "Not quite. How about the distribution"
      ],
      "metadata": {
        "id": "MdY4SCYJduTT"
      }
    },
    {
      "cell_type": "code",
      "source": [
        "ggplot(df, aes(x = consumption_pc)) +\n",
        "  stat_ecdf(aes(color = \"Actual\")) +\n",
        "  stat_ecdf(aes(x = predicted_lasso, color = \"Predicted\")) +\n",
        "  scale_color_manual(values = c(\"Actual\" = \"skyblue\", \"Predicted\" = \"lightcoral\")) +\n",
        "  theme_minimal() +\n",
        "  labs(title = \"ECDF Plot of Actual vs. Predicted Consumption per Capita\",\n",
        "       x = \"Consumption per Capita\",\n",
        "       color = \"Distribution\")"
      ],
      "metadata": {
        "id": "ztNr8Vc8dzIN"
      },
      "execution_count": null,
      "outputs": []
    },
    {
      "cell_type": "markdown",
      "source": [
        "Root mean square error"
      ],
      "metadata": {
        "id": "wSWLHGKCzXeH"
      }
    },
    {
      "cell_type": "code",
      "source": [
        "# Function to calculate RMSE\n",
        "rmse <- function(actual, predicted) {\n",
        "  sqrt(mean((actual - predicted)^2))\n",
        "}\n",
        "\n",
        "# Calculate RMSE for mod2\n",
        "rmse_mod2 <- rmse(df$consumption_pc, df$predicted)\n",
        "cat(\"RMSE for mod2:\", rmse_mod2, \"\\n\")\n",
        "\n",
        "# Calculate RMSE for lasso_mod\n",
        "rmse_lasso <- rmse(df$consumption_pc, df$predicted_lasso)\n",
        "cat(\"RMSE for lasso_mod:\", rmse_lasso, \"\\n\")"
      ],
      "metadata": {
        "id": "8Q0dQQF8xpRF"
      },
      "execution_count": null,
      "outputs": []
    },
    {
      "cell_type": "markdown",
      "source": [
        "R-squared"
      ],
      "metadata": {
        "id": "1y5tEf8Fzldv"
      }
    },
    {
      "cell_type": "code",
      "source": [
        "# Function to calculate R-squared\n",
        "rsquared <- function(actual, predicted) {\n",
        "  rss <- sum((actual - predicted)^2)\n",
        "  tss <- sum((actual - mean(actual))^2)\n",
        "  1 - (rss / tss)\n",
        "}\n",
        "\n",
        "# Calculate R-squared for mod2\n",
        "rsquared_mod2 <- rsquared(df$consumption_pc, df$predicted)\n",
        "cat(\"R-squared for mod2:\", rsquared_mod2, \"\\n\")\n",
        "\n",
        "# Calculate R-squared for lasso_mod\n",
        "rsquared_lasso <- rsquared(df$consumption_pc, df$predicted_lasso)\n",
        "cat(\"R-squared for lasso_mod:\", rsquared_lasso, \"\\n\")"
      ],
      "metadata": {
        "id": "AkFspELAzoH9"
      },
      "execution_count": null,
      "outputs": []
    },
    {
      "cell_type": "markdown",
      "source": [
        "Negligible differences. Let's go ahead with mod2 for simplicity"
      ],
      "metadata": {
        "id": "6ISgVLMl0sRF"
      }
    },
    {
      "cell_type": "markdown",
      "source": [
        "**Add-ons**"
      ],
      "metadata": {
        "id": "hYrFy99J1bOB"
      }
    },
    {
      "cell_type": "markdown",
      "source": [
        "Adding normal random noise and calculating the poverty rate"
      ],
      "metadata": {
        "id": "CYisDgPJ1X7W"
      }
    },
    {
      "cell_type": "code",
      "source": [
        "df$prediction_plus_noise <- predict(mod2) + rnorm(n, sd = summary(mod2)$sigma)\n",
        "\n",
        "cat(\"Predicted mod2 plus noise poverty rate: \",mean(df$prediction_plus_noise<27))"
      ],
      "metadata": {
        "id": "Cp7dNhhR0zHv"
      },
      "execution_count": null,
      "outputs": []
    },
    {
      "cell_type": "markdown",
      "source": [
        "Promising. Now let's check the distributions."
      ],
      "metadata": {
        "id": "qUgZX8Ab1qw3"
      }
    },
    {
      "cell_type": "code",
      "source": [
        "ggplot(df, aes(x = consumption_pc)) +\n",
        "  geom_density(aes(fill = \"Actual\"), alpha = 0.5) +\n",
        "  geom_density(aes(x = prediction_plus_noise, fill = \"Predicted\"), alpha = 0.5) +\n",
        "  scale_fill_manual(values = c(\"Actual\" = \"skyblue\", \"Predicted\" = \"lightcoral\")) +\n",
        "  theme_minimal() +\n",
        "  labs(title = \"Density Plot of Actual vs. Predicted Consumption per Capita (Plus Noise)\",\n",
        "       x = \"Consumption per Capita\",\n",
        "       fill = \"Distribution\")"
      ],
      "metadata": {
        "id": "W7ELf3-O10ms"
      },
      "execution_count": null,
      "outputs": []
    },
    {
      "cell_type": "markdown",
      "source": [
        " Looks good. Let's do it more times and see how poverty rates look"
      ],
      "metadata": {
        "id": "0VOA75_E2IFy"
      }
    },
    {
      "cell_type": "code",
      "source": [
        "simulations <- 20\n",
        "poverty_rates <- numeric(simulations)\n",
        "predicted_consumption_list <- list()\n",
        "\n",
        "for (i in 1:simulations) {\n",
        "  df$prediction_plus_noise <- predict(mod2) + rnorm(n, sd = summary(mod2)$sigma)\n",
        "  poverty_rates[i] <- mean(df$prediction_plus_noise < 27)\n",
        "  predicted_consumption_list[[i]] <- df$prediction_plus_noise\n",
        "}\n",
        "\n",
        "# Create a data frame for the poverty rates from simulations\n",
        "poverty_rates_df <- data.frame(poverty_rate = poverty_rates)\n",
        "\n",
        "# Plot the density of the poverty rates\n",
        "ggplot(poverty_rates_df, aes(x = poverty_rate)) +\n",
        "  geom_density(fill = \"skyblue\", color = \"blue\") +\n",
        "  theme_minimal() +\n",
        "  labs(title = \"Density Plot of Poverty Rates from 20 Simulations\",\n",
        "       x = \"Poverty Rate\")"
      ],
      "metadata": {
        "id": "Ck-l5Xvb2sEV"
      },
      "execution_count": null,
      "outputs": []
    },
    {
      "cell_type": "markdown",
      "source": [
        "And the average poverty rate"
      ],
      "metadata": {
        "id": "L7tEPH1D4efL"
      }
    },
    {
      "cell_type": "code",
      "source": [
        "cat(\"Average predicted poverty rate:\", mean(poverty_rates), \"\\n\")"
      ],
      "metadata": {
        "id": "99odjpzn4xJS"
      },
      "execution_count": null,
      "outputs": []
    },
    {
      "cell_type": "markdown",
      "source": [
        "But we need one predicted vector. Let's average across simulations"
      ],
      "metadata": {
        "id": "tLXIJU5F484B"
      }
    },
    {
      "cell_type": "code",
      "source": [
        "# Average the predicted consumption across simulations\n",
        "df$avg_predicted_consumption <- rowMeans(do.call(cbind, predicted_consumption_list))\n",
        "\n",
        "ggplot(df, aes(x = consumption_pc)) +\n",
        "  geom_density(aes(fill = \"Actual\"), alpha = 0.5) +\n",
        "  geom_density(aes(x = avg_predicted_consumption, fill = \"Predicted\"), alpha = 0.5) +\n",
        "  scale_fill_manual(values = c(\"Actual\" = \"skyblue\", \"Predicted\" = \"lightcoral\")) +\n",
        "  theme_minimal() +\n",
        "  labs(title = \"Density Plot of Actual vs. Average Predicted Consumption per Capita (Plus Noise)\",\n",
        "       x = \"Consumption per Capita\",\n",
        "       fill = \"Distribution\")\n"
      ],
      "metadata": {
        "id": "9tPwkg0U5GTn"
      },
      "execution_count": null,
      "outputs": []
    },
    {
      "cell_type": "markdown",
      "source": [
        "Low expectations here, but let’s take a look at the poverty rate"
      ],
      "metadata": {
        "id": "mak6Z4Hr9h0M"
      }
    },
    {
      "cell_type": "code",
      "source": [
        "cat(\"Poverty rate based on average predicted consumption:\", mean(df$avg_predicted_consumption < 27), \"\\n\")"
      ],
      "metadata": {
        "id": "vrrsxtw39B9a"
      },
      "execution_count": null,
      "outputs": []
    },
    {
      "cell_type": "markdown",
      "source": [
        "Not again!"
      ],
      "metadata": {
        "id": "J-B_lgID6EMd"
      }
    },
    {
      "cell_type": "markdown",
      "source": [
        "OK. Let's try something else. How do we choose one out the 20 simulations?"
      ],
      "metadata": {
        "id": "1_MPKfeS6IOx"
      }
    },
    {
      "cell_type": "markdown",
      "source": [
        "Debate: Why R-squared or RMSE would not solve our problem?"
      ],
      "metadata": {
        "id": "GRsZUUAJ6uaO"
      }
    },
    {
      "cell_type": "markdown",
      "source": [
        "![idea.png](data:image/png;base64,iVBORw0KGgoAAAANSUhEUgAAAOEAAADhCAMAAAAJbSJIAAABDlBMVEX////71i4FFyAAAAAAAB8AFSBTeYA4W2AADyAAEhzoxy3/2S4AChZWfYQmPURJbHT/3C8LHCU1V1wAAA8ADxkAAAoAEiA2VFvR09Q1PUKTlZd/goXZuiwVKjIAABEADSDg4uMABiD09fUWJSHCqSvOsiv/4C+Gi44iLjXtyy2rlilIRyN0en3b3d6usrRaYmZ/ciZHUFXAw8SytrgSICFKUlediijr7O2gpadYX2M7RUpBQCKQgCeplChTTyPUuCxkXSRob3MyNSJ0aSUiKyG6oiooRUuGeCY2OCIpLiEqNj2rraYaIAv/6oj//ercyXamoYX721Frb2prYiSQgz//76T+9Mz84Xj/8bXb07Lzo52yAAAPoklEQVR4nO1de3+aShqODNMGoSlWIcSoXGK8JNrcozE5SWyaNsnu2d2z3ev3/yILcwE0IKAw4P58/kqV4jzMzHufl62tDTbYYIMNNtiAMazx/tjKexCZ4gxUwVneg8gSXwHHceBr3sPIEHXFZqjU8x5GhtgwXH9sGK4/NgzXH+vLcKjFM8WSMLQ0bZUhpQrrDIDmMM6VCRgOmwCcFcWEHdi2mFSJc2UChhXJtu+mqw0sLVhvgmNtxhl3fIZ1x4IV3goyiRPJGY0wir4yNkNDcJ6aNFl9cKlg7DxvrjqIvjI2w0HVuSUYrz64dDCpofFEy764DDX0zGpFmUJ3QHuRF14g//Ai8rq9uI+MGU5aXDzX9gYo4CbyKuQoc62TNIaWEkZoSEIlWvRd1KNn0KoI6IEZKYwsNSDhzoFuKjfr4psVy7izes5jhy0jhXsZaMkLvYLoQoqL9LZO7E3NGEjtc+B85RthwVwYZe9hiDVGb+Ub9bCmiGXJswUxQ1Yd2TC2gcQcI0lIjaEgxTBy2WMMBEFZaNdYo6GmaUNjoZSc2LcpjkE6i3qvchL47C3jvD4461WBCziZdsda8MXTZq9YqtAHK2DIlta96QGgtNAiphBqLZsvvBqcB/2XgmnChbg4qQBlhpsfglQFwmRcyD0XCxcnAISyo4A1APbWMqdo1JtAekcHY/7jGqgOCuQpxYIxlYBv9qCq8wjq5eWliv/UVT/TKrhZJ47GFFQ9dts2nYP7u6N2o0RRPny+fjwweX7bYymBq3XhaO2DlktP583bn+1yR5ZFUXQZ2n/LcqffvjuGvAk9jidG3oOPg3FFoUO21+P9UUOUfdxmYNMsP//S+W36H1qtwmpCF6Mzuv/s6Tu4Ltv0gtm5syn3f7vldTKRELwVfKmOqfyEJn/fliPoEcidh0eTh1SuphMoyAbWCSDj1PnHw04sengmO+Un0yRLFUyMvImEQWtW6f47fog3fR5HufHIq0TiSKv70YkxjLE7LpQaXqD85XOYbFnI8fCVLFUhThRKS9NHtiYAcFFRwC5Zodv8aUlOzA9zvDN1slKjPOALDoBJerbeFDjPdbFCHgA8Nv613VmKnwO5ccsTigtjWtqVI7FTTL4BopAH4V7AFJAV+thfbgLJNJZOyUpVrkJ/azQgEhukxhDHoDlYDU2qnAAiYq4TSNBAdJ6JARBKsV6tku0aKysbC19dLQ56gWKOzOA2bK8ygRjyw3e8GZXAIsbzHtVIQpoh1a9NsstshXzzXobt42/1g8bqBG2K5ResGgP22fAG1KjarKQaM7a6rjXdAvtzMmxMCF6WV1yhBGLpBcubefPG2le8UXTT9pqNE/r0oKLMLNVzTND81k+HoEPxmFCcmaZzhdr0tWy8kPMJ3Y4C8D0/Q0Gf6q8pzSChSBaqT0NZ3s9PsjJ6xgJ5iP70xBuS3CqXIkGbYv8ViZta03uWZK1wipRhNNUimsj3aLGmh/xDGkLGR7GsIyu16kkbkrIBg2zDVrYwk2q+YvQLQvA5XYK2RD3Eqt+3FSegJoGr7FM25zcTT5haTbQ3+Lu0CdoUf0PSxlenYw32bph7HQO0MfXjNPegS/EXotiKrmzIEBpZo6npiVlcqvNijTmmyOVNfxNiiHgrCs28GZr32cygvU5P0TrNsypDAyrU9VQ1oR9i/0Dl4tXpZIY//Vn9lrIm9EM+4oPsU5b4vVReIiQTH+Kt4yzCVm6T+BexlCU/m2E7z51ojcd/zW6BEsjHOnJn8iA4BAC0jrKmSCcxut4vfVzZzqh62c+YYamEdqKUw7FMwwkHQb6R7T6k4hQq7GukUEEzvCxnTLBUwjoxh4M2qLbb/LV89DcSIk5ddZ4cd599zbeBbG6+nd0iFdtPp07szrZOkaxhvUxRUTDUsyMoX/Mmzx/aPyBzjv3NvBAMVSKaT9kpi77jVyDHU/7pTKIUHuXPBmgOM1ykYgOtTd626qlKZGy5WW+A5x+zVBXIN+SPRPone0f4bz+fsyQoPzrmmn5vC2vxXs9FX/yeMI+dlCHW9I4sk+9y2Yhbf2TJzwmY4mX6QDeiwLFmmLlb8aKiGJBIySpMqzSt+t+vM3YN5V8mVUj9V5VjfNDL6oEWf5spQUflo1CsLWpkJGqYelAoY8hnKkvJ7lO/leh0MhWm01ZGoXw/w4ZTtQgdDxQL0xbLMxg3TgaKv85Y2Lzavq95LNMUhsTyPOJZLftV6ixTnuccFxsv2NT9fGuwN4uJt9ORc5il64Qgl387QhkR7ED5XMSLydzYlsopTkBtFpInzNA5XeTaZApaVkwYuudxLoA0NzawhIOs0foSD94y2ROYMHSZIoaCy3Dy7hDAMsry/D1Dd5ngLgrMGb7NLKE5hsk9DwvM3wa66YN8GHqrlJZB+h7+Mt6jVgGzUDxpzWgfzjH09tqJMje2ylIWnaXNwhcKmjBm2J5juDWcG1vq/v+ZxEAf+hgeMXcQT5jYNC6IC8zSpkGRNv6UGUMUFK7uM2SIQvr6IzOGKGbDNGKKlOV2xg6iD7fqcipveSCDBzJIrSGIZXRkka2Pjyqts0+tEYYPKCRcZRoSRuVsOFybPXA8Q1i9XUMSICffZCRMsShtsW1thgI16isTgqXSJdqGbJud4O4VfGbVUH6QJA3rBGILiZrfWCxTsg0hW4J4I6JgZubovDjVGEwjbQ5Q9TPkGWhEEtNnXlEzQkc7WCxTvEhhjXlvCRQy3T6OZiiKobV9C77yXYQWKVPHAoMs04eoo9r99tFzI/DIpVxqPB+1+xEkaSkG+7Iv3DYuolZBPnxEHSK+v09UiaXr7+i7x8PFt0A5i1yKaJGPCNVFKlG8IwftVf5l7jqx/IIPNkOTv1t0CyxnmPqGFETp/wyfAds1d2NiOpyp5xf7UHdjeItSPLTUO5fWXygctUBhkCoRAnNGKMnHpu+78PyAPYUc6xCNBxwz5k/DtL78is/Xb6vvaFDyEB+IVV/DJhEXteXW5xMF12GYcUq8OpU/PkB/mL6gBw5LcPzBMV7HYSLZNkmd7/OoLkXAk2iGhGuIpr4sy/KpiSbKW884MW8+iXJDXWTg4kqaHE/NXKEMSciRGSwjzJ8dezOhbK53QlEsO8V40GyIpQ5iHxK2I4cRctqFDnB+Sv0eKGwIw1OHodNKyKdYyAfb9gd4owUzFPvk4FOODV3IuafAOlqcmob6YafTxwz7HYq+Sj9o6+GrtPOI4zN59lC0FBi6TonjCvnKwQG6Ch54oB9wRNIExbToAUS2ESiH1bjrrRrc0xjqgSO8xUod0qZeUKVwP8B/6LeBTwjbQz6LVOuyaOw2bgLFd4TlBq1T/SWgQIocrosGDMpiif1v6AFVPaeia/9yM+vAt7bnHBmHwHXWRhAfk70PmAVbX8ShCANTPPI9XqMV96cMJy8qZNtIyu064FNQJBvOBzkZ9k6K5Ah5M0jMyE98yC/VwNTIiJ9Vr9KeDf5W211CMch8lhtPl46HhAUL78H74PIpqJkGzqfNnsszaGVBC9Qz2Y4XvqYiM+cBr6rha02U+412+xkpB3jUpjjC2uK53W70gwpx6fpWZk4577uNCkEvfYd4uOf1bGjOGlEW7qoQTBF3ZCMa3+m750AmGr8f0quOEpTm3m9x3vMGsZfudhwN3MqMqvCuRNCo4C9DrcsFNk0gQawIuVrlXfSpXvOaf0xTjE0NI+47xI82rLNCQoY2QYjnKcDt9T1rRUjPLZ60ItaGRikGxlySMZSfKcGQ33qjS7WV3lkoIsRAMzQ5orXQr6owaNCJGNpuJSYohW40W+aRAaXGEImSVnVRVx+irPRvK86h2OeQPyEoCySJ1UW9hqToV4bEhQYUJaqrzwLNn4jhvTmv6YNg2x72kFIUp0a9G3k30i0qQNokYEg0PYwOAGvdupEKtwTAHb8Cmg3FZ0iN9aL2ZEe1YJz5zghPMIff0SZUivjeAAcjEOwPx2bYQScN03iFRFbA0gaqS84hiR0W7BU6s5gi22c+0h+bIYkdFnQTIoxQQmp+6DEZis95xw7jAMdt5pRi3DnEfUyK+P4VP0ikfyYyFY8hmUIljzxaEuAg8WziNB5DkshRCv+ahCs8if2kDGk2u/hN2fEkzkRtYjHsIEEqwMJPISnSUA8SziE+i7ceb9IliVNfIX8chsTkloy8hx8Hb6jriS+rGGuVIlVRqFcehgO5UdDn7cdgSBLGuTYQjA8Uffcv0xgMc6o/XBbIizJ/yQkY4tKFwmt7CrxMPQ8j3j40JQWsy5uf8FtJvZRZLG1R+sfVgqb2RQM+nugG+ePZNP/Me9RJ0HVyNajxSgKG/8p71EmAKzP1ZHOY96ATgWxE6kLFYvhH3oNOBHJOuJ2AofjvvAedDLMnMGMxXCtBs7W1j3uddUhG1GUoznyw7X0giv/Je8zJMHZibtvHDYJDnOVu03832jjLfdjw8N+I15MWCsagh3NtAYUJYR/wClB604IHoSjqoBr14spgCNU1iGFsua9kWQoQrIHtfbECQS6ndrrJEPlq1cUQpLwJRIFMoVBJDvxoCu/m43Mmlc+fkuNzBZ0dKWrukAL597XdTx+S49OuE8IqeGKGHDOpfVyK4RfEMK+TB3GBzpbC5oclVumHprNKGR/ZTg6cXhMqO8mBRU3h1YWFc/lQSA5c28m6mW5yjBVuFRQ6xY1hcfHK14MBucJP4db+anOoFPltwAgWeVvn/+8+xNVtsLmELG0WuuDLxQkqtm1+XAZN578WXh+ivp/Cj6UY/nAUYuFtGlSoIOwsxXAHMSy6XdrFr+b+8SU5fqyHMCVNQQWYHMQ/zPE4ZTz03nfeTILaW/RP5AxtRY1f+CncMlaL00AjbwKRCOiAmwSFVxZU0tSk5CBHG4u+TLt4G+5+To5dfCCv6NoCa/wfS8VpfqyFxl8lEvUR/V/mr65KiBtstc0Hmea4BANbbbm+HDcGUO9Wrraz68fnGXofPu4GYgeJmsJ7T+Q4sjDbr/7Nx/BzZb5lPAGx2oy8KUThpBqk5bwg+KfeQpOgWvz6y1ElQOULO55SWEhQahY9iGFj2HtvmdoOI3GRPn6sLIjFKb21yHNbA0BPI9MD/NwXnydfm59FclUNgKVeU5EHRl/PMMUmxs4Xvyu/25wHJnj1dX1qE2k5e8xoxg5OWBQ9NToHAY26Foci1oNrUwFNQU4FC83dCH67TaIH2bYJTgHET4QRibYKCXWn2D2AFQyBisyFoXz3GiPvASeHBuLHM8I6RBQcmhJkwAWhWl1Lgrbqn4JW9DwKLTBdF0X/HtqUA0p1ERRQma7pBBKMtHF3PxzdsbZOhswGG2ywwQYbrCv+ByIuyenqS006AAAAAElFTkSuQmCC)"
      ],
      "metadata": {
        "id": "YtDI3uBh6TsY"
      }
    },
    {
      "cell_type": "markdown",
      "source": [
        "Let's choose the one that more closely resembles the original distribution."
      ],
      "metadata": {
        "id": "Gp6xX9Ly7F2B"
      }
    },
    {
      "cell_type": "markdown",
      "source": [
        "First, let's define the distributional metric ->  Wasserstein distance (Kantorovich–Rubinstein metric)"
      ],
      "metadata": {
        "id": "gLhL2XOP7LZi"
      }
    },
    {
      "cell_type": "code",
      "source": [
        "compute_wasserstein_distance <- function(original, predicted_matrix) {\n",
        "  distances <- apply(predicted_matrix, 2, function(pred) {\n",
        "    wasserstein1d(original, pred)\n",
        "  })\n",
        "  return(distances)\n",
        "}"
      ],
      "metadata": {
        "id": "QncekXXs6R4q"
      },
      "execution_count": null,
      "outputs": []
    },
    {
      "cell_type": "markdown",
      "source": [
        "Now we will calculate the distributional distance between every simulation and the original vector and choose the closest one."
      ],
      "metadata": {
        "id": "lA1MMfYq8N9a"
      }
    },
    {
      "cell_type": "code",
      "source": [
        "distances <- compute_wasserstein_distance(df$consumption_pc, do.call(cbind, predicted_consumption_list))\n",
        "closest_simulation_index <- which.min(distances)\n",
        "closest_predicted_consumption <- predicted_consumption_list[[closest_simulation_index]]\n",
        "\n",
        "# Add the closest predicted consumption vector to the data frame\n",
        "df$closest_predicted_consumption <- closest_predicted_consumption\n",
        "\n",
        "# Compare the distribution of the closest simulation with the actual data\n",
        "ggplot(df, aes(x = consumption_pc)) +\n",
        "  geom_density(aes(fill = \"Actual\"), alpha = 0.5) +\n",
        "  geom_density(aes(x = closest_predicted_consumption, fill = \"Closest Simulation\"), alpha = 0.5) +\n",
        "  scale_fill_manual(values = c(\"Actual\" = \"skyblue\", \"Closest Simulation\" = \"lightcoral\")) +\n",
        "  theme_minimal() +\n",
        "  labs(title = \"Density Plot of Actual vs. Closest Simulated Consumption per Capita\",\n",
        "       x = \"Consumption per Capita\",\n",
        "       fill = \"Distribution\")\n",
        "\n",
        "# Check the poverty rate for the closest simulation\n",
        "cat(\"Poverty rate for the closest simulation:\", mean(df$closest_predicted_consumption < 27), \"\\n\")"
      ],
      "metadata": {
        "id": "oaunwC5p6Bp6",
        "outputId": "d1c9968a-e66e-46b8-ff25-0cf1e532e080",
        "colab": {
          "base_uri": "https://localhost:8080/",
          "height": 455
        }
      },
      "execution_count": 38,
      "outputs": [
        {
          "output_type": "stream",
          "name": "stdout",
          "text": [
            "Poverty rate for the closest simulation: 0.245 \n"
          ]
        },
        {
          "output_type": "display_data",
          "data": {
            "text/plain": [
              "plot without title"
            ],
            "image/png": "[encoded data removed]"
          },
          "metadata": {
            "image/png": {
              "width": 420,
              "height": 420
            }
          }
        }
      ]
    }
  ]
}